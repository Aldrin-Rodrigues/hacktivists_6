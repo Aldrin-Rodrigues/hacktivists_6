{
 "cells": [
  {
   "cell_type": "code",
   "execution_count": 16,
   "metadata": {},
   "outputs": [],
   "source": [
    "from pdf2image import convert_from_path\n",
    "\n",
    "pdf_file = 'hitha_aadhar.pdf'\n",
    "pages = convert_from_path(pdf_file, poppler_path='/opt/homebrew/Cellar/poppler/24.04.0_1/bin')"
   ]
  },
  {
   "cell_type": "code",
   "execution_count": 17,
   "metadata": {},
   "outputs": [],
   "source": [
    "import cv2\n",
    "import numpy as np\n",
    "\n",
    "def deskew(image):\n",
    "    gray = cv2.cvtColor(image, cv2.COLOR_BGR2GRAY)\n",
    "    gray = cv2.bitwise_not(gray)\n",
    "    coords = np.column_stack(np.where(gray > 0))\n",
    "    angle = cv2.minAreaRect(coords)[-1]\n",
    "    \n",
    "    if angle < -45:\n",
    "        angle = -(90 + angle)\n",
    "    else:\n",
    "        angle = -angle\n",
    "\n",
    "    (h, w) = image.shape[:2]\n",
    "    center = (w // 2, h // 2)\n",
    "    M = cv2.getRotationMatrix2D(center, angle, 1.0)\n",
    "    rotated = cv2.warpAffine(image, M, (w, h), flags=cv2.INTER_CUBIC, borderMode=cv2.BORDER_REPLICATE)\n",
    "\n",
    "    return rotated"
   ]
  },
  {
   "cell_type": "code",
   "execution_count": 18,
   "metadata": {},
   "outputs": [],
   "source": [
    "import pytesseract\n",
    "\n",
    "def extract_text_from_image(image):\n",
    "    text = pytesseract.image_to_string(image)\n",
    "    return text"
   ]
  },
  {
   "cell_type": "code",
   "execution_count": 21,
   "metadata": {},
   "outputs": [],
   "source": [
    "extracted_text=[]\n",
    "\n",
    "preprocessed_image = deskew(np.array(pages[0]))\n",
    "\n",
    "text = extract_text_from_image(preprocessed_image)\n",
    "extracted_text.append(text)\n",
    "extracted_text_str = ' '.join(extracted_text)"
   ]
  },
  {
   "cell_type": "code",
   "execution_count": 20,
   "metadata": {},
   "outputs": [
    {
     "name": "stdout",
     "output_type": "stream",
     "text": [
      "ae\n",
      "= A.\n",
      "\n",
      "Goverment t India AADHAAR\n",
      "\n",
      "eA\n",
      "STU.\n",
      "\n",
      "~o0S VSord ss\n",
      "Government of India\n",
      "B E~VT’ MOIS *oadade Bods Pvs,de)\n",
      "B Dodd BQ,BO* BOLI / BB XML / Ba sa* @)Besdea\n",
      "avd madsah, BOOS\n",
      "woddSeod J3a MOSH aaHsod & adayde' 3gob dees anQsard ddywa,5 cond\n",
      "Unique Identification Authority of India Elanaal\n",
      "Seo ed Soas/ Enrolment No.: XXXX/XXXXX/KXXXX INFORMATION\n",
      "\n",
      "To = Aadhaar is a proof of identity, not of citizenship.\n",
      "\n",
      "aaa & Verify identity using Secure QR Code/ Offline XML/ Online\n",
      "wha . :\n",
      "\n",
      "D/O B J Manoj Authentication.\n",
      "\n",
      "No 939/49 &§ This is electronically generated letter.\n",
      "\n",
      "17th Main Road 3rd Block\n",
      "\n",
      "Rajajinagar\n",
      "\n",
      "Bangalore North\n",
      "\n",
      "Bengaluru Karnataka-560010\n",
      "\n",
      "2Z0Z/LL/LZ:81eq peojumog\n",
      "\n",
      "B smo Gedm os ani Saba sdhd\n",
      "\n",
      "BE WosaoA Bser6 Dore Dear desa. Bedinivah,\n",
      "BGabew sqeo’ Seoabaandd.\n",
      "seth aid, alodi,eF Noa, cba a-cheoF OB wad, emo\" SO\n",
      "eee chegtiap BdOLB\n",
      "emo’ my, dad, wo, Zoen’ BO soodadh,O-\n",
      "mAadhaar OGSeB¥ DY®\n",
      "\n",
      "vLOzzL/eL:a1eg anss}\n",
      "\n",
      "Aadhaar is valid throughout the country.\n",
      "\n",
      "Aadhaar helps you avail various Government\n",
      "and non-Government services easily.\n",
      "\n",
      "Keep your mobile number & email ID updated\n",
      "Aad, sGeo* Boas, / Your Aadhaar No. : in Aadhaar.\n",
      "\n",
      "XXXX XXXX 5673 Carry Aadhaar in your smart phone — use\n",
      "BX, sDed®, BSI Mma mAadhaar App.\n",
      "x - = rg\n",
      "\n",
      "Oven:\n",
      "\n",
      "D/O & & aowoees’, Bo 939/49, 178\n",
      "en’ Coca’ 3se 205, Dowowdro,\n",
      "oretado esd, woRezedo,\n",
      "\n",
      "Bar b38, 560010\n",
      "\n",
      "Address:\n",
      "\n",
      "D/O B J Manoj, No 939/49, 17th Main\n",
      "Road 3rd Block, Rajajinagar, Bangalore\n",
      "North, Bengaluru,\n",
      "\n",
      "Karnataka, 560010\n",
      "\n",
      "BM Hitha\n",
      "2g Bwsoow/DOB: 04/02/2004\n",
      "Qf FEMALE\n",
      "\n",
      "Zz0z/LL/1z:01eq peojumog\n",
      "plozbietered enss}\n",
      "\n",
      "XXXX XXXX 5673 XXXX XXXX 5673\n",
      "Sx, esDMoov*, Sx, imviobi<) | Bq hetpeuidai.govin | GP www.uidai.gov.in\n",
      "\n",
      "\n"
     ]
    }
   ],
   "source": [
    "for i in extracted_text:\n",
    "    print(i)"
   ]
  },
  {
   "cell_type": "code",
   "execution_count": 23,
   "metadata": {},
   "outputs": [
    {
     "name": "stdout",
     "output_type": "stream",
     "text": [
      "Number found: XXXX XXXX 5673\n",
      "DOB found: 04/02/2004\n"
     ]
    }
   ],
   "source": [
    "import re\n",
    "\n",
    "\n",
    "number_pattern = r\"\\bXXXX\\sXXXX\\s\\d{4}\\b\"\n",
    "dob_regex = r\"\\b\\d{2}/\\d{2}/\\d{4}\\b\"\n",
    "\n",
    "# Check if the pattern is present\n",
    "number_match = re.search(number_pattern, extracted_text_str)\n",
    "dob_match = re.search(dob_regex, extracted_text_str)\n",
    "\n",
    "if number_match:\n",
    "    print(\"Number found:\", number_match.group(0))  # Output the matched string\n",
    "else:\n",
    "    print(\"Number not found.\")\n",
    "    \n",
    "if dob_match:\n",
    "    print(\"DOB found:\", dob_match.group(0))  # Output the matched string\n",
    "else:\n",
    "    print(\"DOB not found.\")"
   ]
  }
 ],
 "metadata": {
  "kernelspec": {
   "display_name": "ocr",
   "language": "python",
   "name": "python3"
  },
  "language_info": {
   "codemirror_mode": {
    "name": "ipython",
    "version": 3
   },
   "file_extension": ".py",
   "mimetype": "text/x-python",
   "name": "python",
   "nbconvert_exporter": "python",
   "pygments_lexer": "ipython3",
   "version": "3.11.9"
  }
 },
 "nbformat": 4,
 "nbformat_minor": 2
}
